{
  "cells": [
    {
      "cell_type": "code",
      "execution_count": null,
      "metadata": {
        "trusted": true
      },
      "outputs": [],
      "source": "%matplotlib inline\nfrom qiskit import QuantumRegister, ClassicalRegister, QuantumCircuit, execute, Aer, IBMQ\nfrom qiskit.compiler import transpile, assemble\nfrom qiskit.tools.jupyter import *\nfrom qiskit.visualization import *\nprovider = IBMQ.load_account()"
    },
    {
      "cell_type": "code",
      "execution_count": null,
      "metadata": {
        "trusted": true
      },
      "outputs": [],
      "source": "q = QuantumRegister(5, 'q')\nc = ClassicalRegister(5, 'c')\ncircuit = QuantumCircuit(q, c)\n\ncircuit.h(q[0])\ncircuit.h(q[1])\ncircuit.h(q[1])\ncircuit.x(q[2])\ncircuit.x(q[3])\ncircuit.h(q[3])\ncircuit.x(q[4])\ncircuit.h(q[4])\ncircuit.h(q[4])\n\ncircuit.measure(q, c)"
    },
    {
      "cell_type": "code",
      "execution_count": null,
      "metadata": {
        "trusted": true
      },
      "outputs": [],
      "source": "%matplotlib inline\ncircuit.draw(output=\"mpl\")\n\n#backend = IBMQ.get_provider().get_backend('ibmq_london') \nbackend = Aer.get_backend('qasm_simulator')\njob = execute(circuit, backend=backend, shots=8192)\nresult = job.result()\n\ncounts = result.get_counts(circuit)\nfrom qiskit.tools.visualization import plot_histogram\nplot_histogram(counts)"
    },
    {
      "cell_type": "code",
      "execution_count": null,
      "metadata": {
        "trusted": true
      },
      "outputs": [],
      "source": ""
    }
  ],
  "metadata": {
    "kernelspec": {
      "display_name": "Python 3",
      "language": "python",
      "name": "python3"
    },
    "language_info": {
      "codemirror_mode": {
        "name": "ipython",
        "version": 3
      },
      "file_extension": ".py",
      "mimetype": "text/x-python",
      "name": "python",
      "nbconvert_exporter": "python",
      "pygments_lexer": "ipython3",
      "version": "3.7.3"
    }
  },
  "nbformat": 4,
  "nbformat_minor": 2
}